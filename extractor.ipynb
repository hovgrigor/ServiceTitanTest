{
 "cells": [
  {
   "cell_type": "code",
   "execution_count": 1,
   "metadata": {},
   "outputs": [],
   "source": [
    "import pandas as pd\n",
    "import numpy as np"
   ]
  },
  {
   "cell_type": "code",
   "execution_count": 15,
   "metadata": {},
   "outputs": [],
   "source": [
    "class DataExtractor():\n",
    "    def __init__(self, path) -> None:\n",
    "        self.path = path\n",
    "        self.final = pd.DataFrame()\n",
    "        pass\n",
    "    \n",
    "    def extractDataFrame(self):\n",
    "        \n",
    "        def NotaNum(quant):\n",
    "            if(not str(quant).isnumeric()):\n",
    "                if(str(quant) == \"ten\"):\n",
    "                    return 10\n",
    "                if(str(quant) == \"five\"):\n",
    "                    return 5\n",
    "                return 0\n",
    "            return quant\n",
    "    \n",
    "        def removeLastletter(id):\n",
    "            if(not str(id)[-1].isnumeric()):\n",
    "                return id[:-1]\n",
    "            return id\n",
    "    \n",
    "        df = pd.read_pickle(self.path)\n",
    "        df = pd.DataFrame(df)\n",
    "        \n",
    "        df.dropna(inplace=True)\n",
    "        df.reset_index(inplace=True)\n",
    "        \n",
    "        df[\"id\"] = df[\"id\"].map(removeLastletter)\n",
    "\n",
    "        final = pd.DataFrame()\n",
    "        items = pd.DataFrame()\n",
    "        for i in range(0, df.shape[0]):\n",
    "            for k in range(0, len(df[\"items\"][i])):\n",
    "                item = pd.DataFrame(df[\"items\"][i][k][\"item\"], index = [df[\"id\"][i]])\n",
    "                item[\"quantity\"] = df[\"items\"][i][k][\"quantity\"]\n",
    "                item[\"created_on\"] = df[\"created_on\"][i]\n",
    "                items = pd.concat([items, item])\n",
    "            final = pd.concat([final, items])\n",
    "            items = pd.DataFrame()\n",
    "\n",
    "        final.index.name = \"invoice_id\"\n",
    "        final.rename(columns={\"id\":\"invoiceitem_id\", \"name\":\"invoiceitem_name\"}, inplace=True)\n",
    "        final.index = final.index.astype(int)\n",
    "\n",
    "        final[\"invoiceitem_name\"] = final[\"invoiceitem_name\"].astype(str)\n",
    "\n",
    "        final[\"created_on\"] = pd.to_datetime(final[\"created_on\"], format=\"mixed\", errors='coerce')\n",
    "\n",
    "        final[\"quantity\"] = final[\"quantity\"].map(NotaNum).astype(int)\n",
    "\n",
    "        final['type'] = final['type'].map({0: 'Material', 1: 'Equipment', 2: 'Service', 3: 'Other'})\n",
    "\n",
    "        final[\"total_price\"] = final[\"unit_price\"] * final[\"quantity\"]\n",
    "\n",
    "        final.sort_values([\"invoice_id\", \"invoiceitem_id\"], inplace=True)\n",
    "\n",
    "        final[\"percentage_in_invoice\"] = final[\"total_price\"] / final.groupby('invoice_id')['total_price'].transform('sum')\n",
    "\n",
    "        lines = np.loadtxt(\"expired_invoices.txt\", comments=\"#\", delimiter=\",\", unpack=False, dtype=np.int64)\n",
    "        final[\"is_expired\"] = final.index.map(lambda x: x in lines)\n",
    "        \n",
    "        final = final[[\"created_on\", \"invoiceitem_id\", \"invoiceitem_name\", \n",
    "                       \"type\", \"unit_price\", \"total_price\", \"percentage_in_invoice\", \"is_expired\"]]\n",
    "        self.final = final\n",
    "        return final\n",
    "\n",
    "    def save_csv(self):\n",
    "        if not self.final.empty:\n",
    "            self.final.to_csv(\"out.csv\")\n",
    "        else:\n",
    "            print(\"Extract the Dataset first\")\n",
    "    \n",
    "        \n",
    "        "
   ]
  },
  {
   "cell_type": "code",
   "execution_count": 16,
   "metadata": {},
   "outputs": [],
   "source": [
    "data = DataExtractor(\"invoices_new.pkl\")\n",
    "data.extractDataFrame()\n",
    "data.save_csv()"
   ]
  }
 ],
 "metadata": {
  "kernelspec": {
   "display_name": "Python 3",
   "language": "python",
   "name": "python3"
  },
  "language_info": {
   "codemirror_mode": {
    "name": "ipython",
    "version": 3
   },
   "file_extension": ".py",
   "mimetype": "text/x-python",
   "name": "python",
   "nbconvert_exporter": "python",
   "pygments_lexer": "ipython3",
   "version": "3.12.2"
  }
 },
 "nbformat": 4,
 "nbformat_minor": 2
}
